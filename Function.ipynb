{
 "cells": [
  {
   "cell_type": "code",
   "execution_count": 4,
   "id": "3f6d72b3",
   "metadata": {},
   "outputs": [],
   "source": [
    "def positive_negative(num):\n",
    "    if num>0:\n",
    "        return True\n",
    "    else:\n",
    "        return False"
   ]
  },
  {
   "cell_type": "code",
   "execution_count": 7,
   "id": "9177778e",
   "metadata": {},
   "outputs": [
    {
     "name": "stdout",
     "output_type": "stream",
     "text": [
      "Processing id \n",
      "emp Process\n"
     ]
    }
   ],
   "source": [
    "status = positive_negative(100)\n",
    "if status:\n",
    "    print(\"Processing id \")\n",
    "    print(\"emp Process\")\n",
    "else:\n",
    "    print(\"invalid Id\")"
   ]
  },
  {
   "cell_type": "code",
   "execution_count": 20,
   "id": "fffbdde8",
   "metadata": {},
   "outputs": [
    {
     "name": "stdout",
     "output_type": "stream",
     "text": [
      "Employee Bonus Cal Program\n",
      "Enter the Name:test\n",
      "Enter the Age:354\n",
      "Enter the Sal:3453465345634\n",
      "Name is : test\n",
      "Age is: 354\n",
      "Sal is: 3453465345634\n",
      "Bonus is : 172673267281.69998\n",
      "Gross Sal is : 3626138612915.7\n"
     ]
    }
   ],
   "source": [
    "def bonuscal(sal):\n",
    "    bonus = (sal/100)*5\n",
    "    return bonus\n",
    "def Personal_info():    \n",
    "    name = input(\"Enter the Name:\")\n",
    "    age= int(input(\"Enter the Age:\"))\n",
    "    sal = int(input(\"Enter the Sal:\"))\n",
    "    return name,age,sal\n",
    "def GrossSalCal(s1,b1):\n",
    "    gross_sal = s1+b1\n",
    "    return gross_sal\n",
    "#trigerring --\n",
    "def main():\n",
    "    print(\"Employee Bonus Cal Program\")\n",
    "    n,a,s = Personal_info()\n",
    "    b = bonuscal(s)\n",
    "    gross_sal =GrossSalCal(s,b)\n",
    "    print(\"Name is :\",n)\n",
    "    print(\"Age is:\",a)\n",
    "    print(\"Sal is:\",s)\n",
    "    print(\"Bonus is :\",b)    \n",
    "    print(\"Gross Sal is :\",gross_sal)\n",
    "    \n",
    "if __name__=='__main__':  #Python Dev Jugad\n",
    "    main()"
   ]
  },
  {
   "cell_type": "code",
   "execution_count": null,
   "id": "c3d17066",
   "metadata": {},
   "outputs": [],
   "source": [
    "Arguments Types:\n",
    "    1.positional arguements\n",
    "    2.default arguments\n",
    "    3.variable length arguments\n",
    "    4.keyword arguements\n",
    "    5.variable length keyword arguements"
   ]
  },
  {
   "cell_type": "code",
   "execution_count": null,
   "id": "f2e6cf1f",
   "metadata": {},
   "outputs": [],
   "source": [
    "1.positional arguments"
   ]
  },
  {
   "cell_type": "code",
   "execution_count": 23,
   "id": "aa27d2c4",
   "metadata": {},
   "outputs": [],
   "source": [
    "def personal_details(name,age,sal,city):\n",
    "    print(\"Name:\",name)\n",
    "    print(\"Age:\",age)\n",
    "    print(\"Sal:\",sal)\n",
    "    print(\"City:\",city)"
   ]
  },
  {
   "cell_type": "code",
   "execution_count": 24,
   "id": "23e03293",
   "metadata": {},
   "outputs": [
    {
     "name": "stdout",
     "output_type": "stream",
     "text": [
      "Name: Pune\n",
      "Age: Kirti\n",
      "Sal: 25\n",
      "City: 75000\n"
     ]
    }
   ],
   "source": [
    "personal_details('Pune','Kirti',25,75000)"
   ]
  },
  {
   "cell_type": "code",
   "execution_count": null,
   "id": "e2cf35db",
   "metadata": {},
   "outputs": [],
   "source": [
    "1.no of arguments should be equal to calling arguments \n",
    "2.position should same"
   ]
  },
  {
   "cell_type": "code",
   "execution_count": null,
   "id": "c1886b82",
   "metadata": {},
   "outputs": [],
   "source": [
    "2.Default Arguments:\n",
    "    "
   ]
  },
  {
   "cell_type": "code",
   "execution_count": 32,
   "id": "c73dcd8b",
   "metadata": {},
   "outputs": [],
   "source": [
    "def personal_details(name,age,sal,city,pan,aadhar=0):\n",
    "    print(\"Name:\",name)\n",
    "    print(\"Age:\",age)\n",
    "    print(\"Sal:\",sal)\n",
    "    print(\"City:\",city)\n",
    "    print(\"Pan:\",pan)\n",
    "    print(\"Aadhar:\",aadhar)"
   ]
  },
  {
   "cell_type": "code",
   "execution_count": 34,
   "id": "c30edfd0",
   "metadata": {},
   "outputs": [
    {
     "name": "stdout",
     "output_type": "stream",
     "text": [
      "Name: Rahul\n",
      "Age: 25\n",
      "Sal: 95000\n",
      "City: Pune\n",
      "Pan: SAD435345\n",
      "Aadhar: 0\n"
     ]
    }
   ],
   "source": [
    "personal_details('Rahul',25,95000,'Pune','SAD435345')"
   ]
  },
  {
   "cell_type": "code",
   "execution_count": 36,
   "id": "9a07641d",
   "metadata": {},
   "outputs": [],
   "source": [
    "#default --> optional parameter --> assign it to default arguments"
   ]
  },
  {
   "cell_type": "code",
   "execution_count": null,
   "id": "523a359e",
   "metadata": {},
   "outputs": [],
   "source": [
    "variable --> Mathematical Calculation"
   ]
  },
  {
   "cell_type": "code",
   "execution_count": 42,
   "id": "7089f5d8",
   "metadata": {},
   "outputs": [],
   "source": [
    "def test(*args):\n",
    "    print(\"inside function\")\n",
    "    print(args)\n",
    "    print(\"inside function\")"
   ]
  },
  {
   "cell_type": "code",
   "execution_count": 47,
   "id": "3a7d708d",
   "metadata": {},
   "outputs": [
    {
     "name": "stdout",
     "output_type": "stream",
     "text": [
      "inside function\n",
      "(10,)\n",
      "inside function\n"
     ]
    }
   ],
   "source": [
    "test(10)"
   ]
  },
  {
   "cell_type": "code",
   "execution_count": null,
   "id": "3f27ab42",
   "metadata": {},
   "outputs": [],
   "source": [
    "program --> 2 10 4 addition"
   ]
  },
  {
   "cell_type": "code",
   "execution_count": null,
   "id": "6737b799",
   "metadata": {},
   "outputs": [],
   "source": []
  },
  {
   "cell_type": "code",
   "execution_count": 48,
   "id": "6e9e5063",
   "metadata": {},
   "outputs": [],
   "source": [
    "#keyword arguments"
   ]
  },
  {
   "cell_type": "code",
   "execution_count": 57,
   "id": "2a637dd2",
   "metadata": {},
   "outputs": [],
   "source": [
    "def personal_details(name,age,sal,city='no city found',pan=0,aadhar=0): # 8-10  dev --seq\n",
    "    print(\"Name:\",name)\n",
    "    print(\"Age:\",age)\n",
    "    print(\"Sal:\",sal)\n",
    "    print(\"City:\",city)\n",
    "    print(\"Pan:\",pan)\n",
    "    print(\"Aadhar:\",aadhar)"
   ]
  },
  {
   "cell_type": "code",
   "execution_count": 59,
   "id": "0c5f9757",
   "metadata": {},
   "outputs": [
    {
     "name": "stdout",
     "output_type": "stream",
     "text": [
      "Name: Ketan\n",
      "Age: 35\n",
      "Sal: 75000\n",
      "City: no city found\n",
      "Pan: 0\n",
      "Aadhar: 0\n"
     ]
    }
   ],
   "source": [
    "personal_details(name='Ketan',sal=75000,age=35)"
   ]
  },
  {
   "cell_type": "code",
   "execution_count": 60,
   "id": "4b2b572a",
   "metadata": {},
   "outputs": [],
   "source": [
    "#ariable length keyword arguements"
   ]
  },
  {
   "cell_type": "code",
   "execution_count": 61,
   "id": "391acc95",
   "metadata": {},
   "outputs": [],
   "source": [
    "def personal_details(**kwargs):\n",
    "    print(kwargs)"
   ]
  },
  {
   "cell_type": "code",
   "execution_count": 62,
   "id": "116ddc7b",
   "metadata": {},
   "outputs": [
    {
     "name": "stdout",
     "output_type": "stream",
     "text": [
      "{'name': 'Rakesh', 'age': 25}\n"
     ]
    }
   ],
   "source": [
    "personal_details(name='Rakesh',age=25)"
   ]
  },
  {
   "cell_type": "code",
   "execution_count": 63,
   "id": "24287540",
   "metadata": {},
   "outputs": [
    {
     "name": "stdout",
     "output_type": "stream",
     "text": [
      "{'name': 'Sonali', 'age': 25, 'city': 'Pune', 'sal': 95000}\n"
     ]
    }
   ],
   "source": [
    "personal_details(name='Sonali',age=25,city='Pune',sal= 95000)"
   ]
  },
  {
   "cell_type": "code",
   "execution_count": null,
   "id": "7877c972",
   "metadata": {},
   "outputs": [],
   "source": [
    "IBM \n",
    "\n",
    "\n",
    "Interview Question:\n",
    "====================\n",
    "args vs kwargs:\n",
    "variable length arugments vs variable keyword arguments\n",
    "data in tuple format vs data in dict format"
   ]
  },
  {
   "cell_type": "code",
   "execution_count": null,
   "id": "70d4b3c4",
   "metadata": {},
   "outputs": [],
   "source": [
    "list --> even num function --list\n",
    "\n",
    "dict --> only selected key --> \n",
    "\n",
    "data{'name': 'Sonali', 'age': 25, 'city': 'Pune', 'sal': 95000}\n",
    "\n",
    "\n",
    "name\n",
    "sal\n",
    "\n",
    "\n",
    "using function str reverse\n",
    "\n",
    "using function str --> char --> {'a':25,'b': }\n",
    "\n",
    "using function str \n",
    "\n",
    "python ---> {'p':ASCII,'y':ASCII}\n",
    "\n",
    "\n",
    "\n",
    "99.99 try --> logic --> \n",
    "\n",
    "function --> ML "
   ]
  },
  {
   "cell_type": "code",
   "execution_count": null,
   "id": "de3f4691",
   "metadata": {},
   "outputs": [],
   "source": []
  },
  {
   "cell_type": "code",
   "execution_count": null,
   "id": "d9a34bd8",
   "metadata": {},
   "outputs": [],
   "source": []
  },
  {
   "cell_type": "code",
   "execution_count": null,
   "id": "5d6922d7",
   "metadata": {},
   "outputs": [],
   "source": []
  }
 ],
 "metadata": {
  "kernelspec": {
   "display_name": "Python 3 (ipykernel)",
   "language": "python",
   "name": "python3"
  },
  "language_info": {
   "codemirror_mode": {
    "name": "ipython",
    "version": 3
   },
   "file_extension": ".py",
   "mimetype": "text/x-python",
   "name": "python",
   "nbconvert_exporter": "python",
   "pygments_lexer": "ipython3",
   "version": "3.9.12"
  }
 },
 "nbformat": 4,
 "nbformat_minor": 5
}
